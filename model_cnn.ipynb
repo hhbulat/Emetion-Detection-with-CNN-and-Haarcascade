{
 "cells": [
  {
   "cell_type": "code",
   "execution_count": 3,
   "id": "33e4087b",
   "metadata": {},
   "outputs": [],
   "source": [
    "import numpy as np\n",
    "import cv2 as cv\n",
    "import os\n",
    "import matplotlib.pyplot as plt\n",
    "import tensorflow as tf"
   ]
  },
  {
   "cell_type": "code",
   "execution_count": 2,
   "id": "534cbd40",
   "metadata": {},
   "outputs": [],
   "source": [
    "emotions = [\"angry\",\"fear\",\"happy\",\"neutral\",\"sad\",\"surprise\"]\n",
    "dataset_dir = \"dataset/train\"\n",
    "#https://www.kaggle.com/c/challenges-in-representation-learning-facial-expression-recognition-challenge/data"
   ]
  },
  {
   "cell_type": "code",
   "execution_count": null,
   "id": "11deb153",
   "metadata": {},
   "outputs": [],
   "source": [
    "#Example Data Visualization\n",
    "for emotion in emotions:\n",
    "    path = os.path.join(dataset_dir,emotion)\n",
    "    for img in os.listdir(path):\n",
    "        img_array = cv.imread(os.path.join(path,img))\n",
    "        plt.imshow(cv.cvtColor(img_array,cv.COLOR_BGR2RGB))\n",
    "        plt.title(emotion, fontsize=15)\n",
    "        plt.show()\n",
    "        break      "
   ]
  },
  {
   "cell_type": "code",
   "execution_count": 4,
   "id": "12bc9cdf",
   "metadata": {},
   "outputs": [],
   "source": [
    "training_data = []\n",
    "\n",
    "def create_training_data():\n",
    "    for emotion in emotions:\n",
    "        path = os.path.join(dataset_dir,emotion)\n",
    "        class_label = emotions.index(emotion)\n",
    "        for img in os.listdir(path):\n",
    "            img_array = cv.imread(os.path.join(path,img))\n",
    "            training_data.append([img_array,class_label])"
   ]
  },
  {
   "cell_type": "code",
   "execution_count": 5,
   "id": "ffe1e950",
   "metadata": {},
   "outputs": [],
   "source": [
    "create_training_data()"
   ]
  },
  {
   "cell_type": "code",
   "execution_count": 6,
   "id": "f7255842",
   "metadata": {},
   "outputs": [
    {
     "name": "stdout",
     "output_type": "stream",
     "text": [
      "28273\n"
     ]
    }
   ],
   "source": [
    "print(len(training_data))"
   ]
  },
  {
   "cell_type": "code",
   "execution_count": 7,
   "id": "ac1d0ee6",
   "metadata": {},
   "outputs": [],
   "source": [
    "X = [] ##feature\n",
    "y = [] ##labels\n",
    "\n",
    "for features, label in training_data:\n",
    "    X.append(features)\n",
    "    y.append(label)\n",
    "\n",
    "X = np.array(X).reshape(-1,48,48,3)"
   ]
  },
  {
   "cell_type": "code",
   "execution_count": 8,
   "id": "7aa8245a",
   "metadata": {},
   "outputs": [
    {
     "data": {
      "text/plain": [
       "(28273, 48, 48, 3)"
      ]
     },
     "execution_count": 8,
     "metadata": {},
     "output_type": "execute_result"
    }
   ],
   "source": [
    "X.shape"
   ]
  },
  {
   "cell_type": "code",
   "execution_count": 10,
   "id": "cb1438cc",
   "metadata": {},
   "outputs": [],
   "source": [
    "X = X.astype(np.uint8)\n"
   ]
  },
  {
   "cell_type": "code",
   "execution_count": 11,
   "id": "713594d4",
   "metadata": {},
   "outputs": [],
   "source": [
    "y = np.array(y)\n",
    "y = y.astype(np.uint8)\n",
    "X_rescaled = X/255"
   ]
  },
  {
   "cell_type": "code",
   "execution_count": 12,
   "id": "66c8a832",
   "metadata": {},
   "outputs": [],
   "source": [
    "import keras"
   ]
  },
  {
   "cell_type": "code",
   "execution_count": 15,
   "id": "04d6f303",
   "metadata": {},
   "outputs": [
    {
     "name": "stdout",
     "output_type": "stream",
     "text": [
      "Epoch 1/50\n",
      "884/884 [==============================] - 152s 170ms/step - loss: 1.5915 - accuracy: 0.3585\n",
      "Epoch 2/50\n",
      "884/884 [==============================] - 143s 162ms/step - loss: 1.3191 - accuracy: 0.4775\n",
      "Epoch 3/50\n",
      "884/884 [==============================] - 143s 162ms/step - loss: 1.2113 - accuracy: 0.5311\n",
      "Epoch 4/50\n",
      "884/884 [==============================] - 141s 159ms/step - loss: 1.1252 - accuracy: 0.5660\n",
      "Epoch 5/50\n",
      "884/884 [==============================] - 142s 161ms/step - loss: 1.0619 - accuracy: 0.5898\n",
      "Epoch 6/50\n",
      "884/884 [==============================] - 143s 162ms/step - loss: 0.9934 - accuracy: 0.6241\n",
      "Epoch 7/50\n",
      "884/884 [==============================] - 142s 161ms/step - loss: 0.9355 - accuracy: 0.6462\n",
      "Epoch 8/50\n",
      "884/884 [==============================] - 142s 161ms/step - loss: 0.8796 - accuracy: 0.6693\n",
      "Epoch 9/50\n",
      "884/884 [==============================] - 142s 161ms/step - loss: 0.8152 - accuracy: 0.6925\n",
      "Epoch 10/50\n",
      "884/884 [==============================] - 142s 161ms/step - loss: 0.7678 - accuracy: 0.7120\n",
      "Epoch 11/50\n",
      "884/884 [==============================] - 142s 161ms/step - loss: 0.7160 - accuracy: 0.7330\n",
      "Epoch 12/50\n",
      "884/884 [==============================] - 146s 165ms/step - loss: 0.6808 - accuracy: 0.7465\n",
      "Epoch 13/50\n",
      "884/884 [==============================] - 142s 161ms/step - loss: 0.6390 - accuracy: 0.7603\n",
      "Epoch 14/50\n",
      "884/884 [==============================] - 142s 160ms/step - loss: 0.6027 - accuracy: 0.7757\n",
      "Epoch 15/50\n",
      "884/884 [==============================] - 141s 160ms/step - loss: 0.5733 - accuracy: 0.7882\n",
      "Epoch 16/50\n",
      "884/884 [==============================] - 142s 160ms/step - loss: 0.5524 - accuracy: 0.7989\n",
      "Epoch 17/50\n",
      "884/884 [==============================] - 141s 160ms/step - loss: 0.5225 - accuracy: 0.8083\n",
      "Epoch 18/50\n",
      "884/884 [==============================] - 144s 163ms/step - loss: 0.5071 - accuracy: 0.8153\n",
      "Epoch 19/50\n",
      "884/884 [==============================] - 142s 161ms/step - loss: 0.4836 - accuracy: 0.8245\n",
      "Epoch 20/50\n",
      "884/884 [==============================] - 143s 161ms/step - loss: 0.4598 - accuracy: 0.8321\n",
      "Epoch 21/50\n",
      "884/884 [==============================] - 142s 161ms/step - loss: 0.4478 - accuracy: 0.8357\n",
      "Epoch 22/50\n",
      "884/884 [==============================] - 143s 161ms/step - loss: 0.4184 - accuracy: 0.8481\n",
      "Epoch 23/50\n",
      "884/884 [==============================] - 144s 163ms/step - loss: 0.4151 - accuracy: 0.8489\n",
      "Epoch 24/50\n",
      "884/884 [==============================] - 147s 167ms/step - loss: 0.3930 - accuracy: 0.8571\n",
      "Epoch 25/50\n",
      "884/884 [==============================] - 147s 167ms/step - loss: 0.3840 - accuracy: 0.8620\n",
      "Epoch 26/50\n",
      "884/884 [==============================] - 144s 163ms/step - loss: 0.3820 - accuracy: 0.8599\n",
      "Epoch 27/50\n",
      "884/884 [==============================] - 142s 161ms/step - loss: 0.3628 - accuracy: 0.8702\n",
      "Epoch 28/50\n",
      "884/884 [==============================] - 143s 161ms/step - loss: 0.3640 - accuracy: 0.8704\n",
      "Epoch 29/50\n",
      "884/884 [==============================] - 143s 161ms/step - loss: 0.3358 - accuracy: 0.8792\n",
      "Epoch 30/50\n",
      "884/884 [==============================] - 167s 189ms/step - loss: 0.3335 - accuracy: 0.8789\n",
      "Epoch 31/50\n",
      "884/884 [==============================] - 163s 185ms/step - loss: 0.3278 - accuracy: 0.8833\n",
      "Epoch 32/50\n",
      "884/884 [==============================] - 155s 175ms/step - loss: 0.3204 - accuracy: 0.8855\n",
      "Epoch 33/50\n",
      "884/884 [==============================] - 143s 162ms/step - loss: 0.3177 - accuracy: 0.8863\n",
      "Epoch 34/50\n",
      "884/884 [==============================] - 144s 163ms/step - loss: 0.3026 - accuracy: 0.8923\n",
      "Epoch 35/50\n",
      "884/884 [==============================] - 143s 161ms/step - loss: 0.2971 - accuracy: 0.8925\n",
      "Epoch 36/50\n",
      "884/884 [==============================] - 144s 163ms/step - loss: 0.2914 - accuracy: 0.8958\n",
      "Epoch 37/50\n",
      "884/884 [==============================] - 145s 164ms/step - loss: 0.2845 - accuracy: 0.8988\n",
      "Epoch 38/50\n",
      "884/884 [==============================] - 144s 163ms/step - loss: 0.2787 - accuracy: 0.8998\n",
      "Epoch 39/50\n",
      "884/884 [==============================] - 144s 163ms/step - loss: 0.2744 - accuracy: 0.9008\n",
      "Epoch 40/50\n",
      "884/884 [==============================] - 144s 162ms/step - loss: 0.2655 - accuracy: 0.9058\n",
      "Epoch 41/50\n",
      "884/884 [==============================] - 158s 179ms/step - loss: 0.2630 - accuracy: 0.9069\n",
      "Epoch 42/50\n",
      "884/884 [==============================] - 171s 194ms/step - loss: 0.2542 - accuracy: 0.9102\n",
      "Epoch 43/50\n",
      "884/884 [==============================] - 185s 209ms/step - loss: 0.2479 - accuracy: 0.9122\n",
      "Epoch 44/50\n",
      "884/884 [==============================] - 187s 211ms/step - loss: 0.2448 - accuracy: 0.9130\n",
      "Epoch 45/50\n",
      "884/884 [==============================] - 183s 207ms/step - loss: 0.2365 - accuracy: 0.9165 - los\n",
      "Epoch 46/50\n",
      "884/884 [==============================] - 182s 206ms/step - loss: 0.2332 - accuracy: 0.9160\n",
      "Epoch 47/50\n",
      "884/884 [==============================] - 161s 182ms/step - loss: 0.2281 - accuracy: 0.9173\n",
      "Epoch 48/50\n",
      "884/884 [==============================] - 146s 165ms/step - loss: 0.2342 - accuracy: 0.9195\n",
      "Epoch 49/50\n",
      "884/884 [==============================] - 145s 164ms/step - loss: 0.2250 - accuracy: 0.9219\n",
      "Epoch 50/50\n",
      "884/884 [==============================] - 145s 164ms/step - loss: 0.2206 - accuracy: 0.9218\n"
     ]
    },
    {
     "data": {
      "text/plain": [
       "<keras.callbacks.History at 0x20060149940>"
      ]
     },
     "execution_count": 15,
     "metadata": {},
     "output_type": "execute_result"
    }
   ],
   "source": [
    "model = keras.Sequential([\n",
    "    keras.layers.Conv2D(32, (3,3),activation='relu', padding='same',input_shape=(48, 48,3)),\n",
    "    keras.layers.Conv2D(32, (3,3),activation='relu', padding='same'),\n",
    "    keras.layers.MaxPooling2D((2, 2)),\n",
    "    keras.layers.Dropout(0.25),\n",
    "    keras.layers.BatchNormalization(),\n",
    "    \n",
    "    keras.layers.Conv2D(64, (5,5),activation='relu',padding='same'),\n",
    "    keras.layers.MaxPooling2D((2, 2)),\n",
    "    keras.layers.Dropout(0.25),\n",
    "    keras.layers.BatchNormalization(),\n",
    "    \n",
    "    keras.layers.Conv2D(128, (5,5),activation='relu',padding='same'),\n",
    "    keras.layers.MaxPooling2D((2, 2)),\n",
    "    keras.layers.Dropout(0.25),\n",
    "    keras.layers.BatchNormalization(),\n",
    "\n",
    "    keras.layers.Flatten(),\n",
    "    keras.layers.Dense(128, activation='relu'),\n",
    "    keras.layers.Dense(len(emotions), activation='softmax')\n",
    "])\n",
    "\n",
    "model.compile(optimizer='adam',\n",
    "             loss = 'sparse_categorical_crossentropy',\n",
    "             metrics='accuracy')\n",
    "\n",
    "model.fit(X_rescaled,y,epochs=50)"
   ]
  },
  {
   "cell_type": "code",
   "execution_count": 16,
   "id": "122b1118",
   "metadata": {},
   "outputs": [],
   "source": [
    "model.save('face_detector_model.h5')"
   ]
  },
  {
   "cell_type": "code",
   "execution_count": null,
   "id": "3876ab22",
   "metadata": {},
   "outputs": [],
   "source": [
    "evulation = model.evaluate(X,y)\n",
    "print(evulation)"
   ]
  },
  {
   "cell_type": "code",
   "execution_count": null,
   "id": "e8156186",
   "metadata": {},
   "outputs": [],
   "source": [
    "plt.plot(model.history['acc'])\n",
    "plt.plot(model.history['val_acc'])\n",
    "plt.title('model accuracy')\n",
    "plt.ylabel('accuracy')\n",
    "plt.xlabel('epoch')\n",
    "plt.legend(['train', 'test'], loc='upper left')\n",
    "plt.show()\n",
    "\n",
    "plt.plot(model.history['loss'])\n",
    "plt.plot(model.history['val_loss'])\n",
    "plt.title('model loss')\n",
    "plt.ylabel('loss')\n",
    "plt.xlabel('epoch')\n",
    "plt.legend(['train', 'test'], loc='upper left')\n",
    "plt.show()"
   ]
  }
 ],
 "metadata": {
  "kernelspec": {
   "display_name": "Python 3 (ipykernel)",
   "language": "python",
   "name": "python3"
  },
  "language_info": {
   "codemirror_mode": {
    "name": "ipython",
    "version": 3
   },
   "file_extension": ".py",
   "mimetype": "text/x-python",
   "name": "python",
   "nbconvert_exporter": "python",
   "pygments_lexer": "ipython3",
   "version": "3.9.7"
  }
 },
 "nbformat": 4,
 "nbformat_minor": 5
}
